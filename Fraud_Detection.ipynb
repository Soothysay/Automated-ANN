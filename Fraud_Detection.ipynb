{
  "nbformat": 4,
  "nbformat_minor": 0,
  "metadata": {
    "colab": {
      "name": "Fraud Detection.ipynb",
      "provenance": [],
      "collapsed_sections": [],
      "mount_file_id": "1-eo-1RZansiJhUpavoN5MGgzYY9kpEF7",
      "authorship_tag": "ABX9TyNG9SAIaZU+6gugVcT2aEfB",
      "include_colab_link": true
    },
    "kernelspec": {
      "name": "python3",
      "display_name": "Python 3"
    }
  },
  "cells": [
    {
      "cell_type": "markdown",
      "metadata": {
        "id": "view-in-github",
        "colab_type": "text"
      },
      "source": [
        "<a href=\"https://colab.research.google.com/github/Soothysay/Automated-ANN/blob/master/Fraud_Detection.ipynb\" target=\"_parent\"><img src=\"https://colab.research.google.com/assets/colab-badge.svg\" alt=\"Open In Colab\"/></a>"
      ]
    },
    {
      "cell_type": "code",
      "metadata": {
        "id": "-wBiRWrNtmhU",
        "colab_type": "code",
        "colab": {}
      },
      "source": [
        "import numpy as np\n",
        "import matplotlib.pyplot as plt\n",
        "import pandas as pd\n",
        "import tensorflow as tf\n",
        "import keras\n",
        "from keras import layers\n",
        "from keras import models\n",
        "from keras import utils\n",
        "from keras.layers import Dense\n",
        "from keras.models import Sequential\n",
        "from keras.layers import Flatten,Dense,Activation,Embedding,LeakyReLU,BatchNormalization,Dropout\n",
        "from keras.activations import relu,sigmoid,elu,softmax,tanh\n",
        "from keras.regularizers import l2\n",
        "from keras.optimizers import SGD\n",
        "from keras.optimizers import RMSprop\n",
        "from keras import datasets\n",
        "from keras.callbacks import LearningRateScheduler\n",
        "from keras.callbacks import History\n",
        "from keras import losses\n",
        "from keras import optimizers\n",
        "from keras.wrappers.scikit_learn import KerasClassifier\n",
        "from sklearn.model_selection import train_test_split,GridSearchCV\n",
        "from sklearn.preprocessing import StandardScaler, LabelEncoder"
      ],
      "execution_count": 0,
      "outputs": []
    },
    {
      "cell_type": "code",
      "metadata": {
        "id": "W2QKSfHctyIh",
        "colab_type": "code",
        "colab": {}
      },
      "source": [
        "def divide(path,divider):\n",
        "  #Division of X and Y\n",
        "  x=path.drop(divider,axis=1)\n",
        "  type(divider)\n",
        "  y=path[divider]\n",
        "  return x,y"
      ],
      "execution_count": 0,
      "outputs": []
    },
    {
      "cell_type": "code",
      "metadata": {
        "id": "WKVY1h3guTt3",
        "colab_type": "code",
        "colab": {}
      },
      "source": [
        "# Splitting the dataset into the Training set and Test set\n",
        "def splitter(x,y):\n",
        "  \n",
        "  x_train, x_test, y_train, y_test = train_test_split(x, y, test_size = 0.2, random_state = 0)\n",
        "  # Feature Scaling\n",
        "  sc = StandardScaler()\n",
        "  x_train = sc.fit_transform(x_train)\n",
        "  x_test = sc.transform(x_test)\n",
        "  return x_train,y_train,x_test,y_test"
      ],
      "execution_count": 0,
      "outputs": []
    },
    {
      "cell_type": "code",
      "metadata": {
        "id": "SzvVroWoubov",
        "colab_type": "code",
        "colab": {}
      },
      "source": [
        "def read():\n",
        "  df=pd.read_csv('/content/drive/My Drive/ANN/PS_20174392719_1491204439457_log.csv')\n",
        "  # list of columns whose data type is object i.e. string\n",
        "  listOfColumnNames = list((df.dtypes[df.dtypes == np.object]).index)\n",
        "  #filteredColumns = df.dtypes[df.dtypes == np.object]\n",
        "  #listOfColumnNames = list(filteredColumns.index)\n",
        "  #Removing the Name and Surname Columns (You can add more redundant parameters)\n",
        "  if 'nameOrig' in listOfColumnNames:\n",
        "    df=df.drop(['nameOrig'],axis=1)\n",
        "  if 'nameDest' in listOfColumnNames:\n",
        "    df=df.drop(['nameDest'],axis=1)\n",
        "  if 'nameOrig' in listOfColumnNames:\n",
        "    listOfColumnNames.remove('nameOrig')\n",
        "  if 'nameDest' in listOfColumnNames:\n",
        "    listOfColumnNames.remove('nameDest')\n",
        "  #Replacing the object type values with classified values (Performance can be improved)\n",
        "  for i in range(len(listOfColumnNames)):\n",
        "    s=set(df[listOfColumnNames[i]])\n",
        "    s=list(s)\n",
        "    for j in range(len(s)):\n",
        "      df=df.replace(to_replace=s[j],value=(j+1))\n",
        "  #Done with data shaping\n",
        "  return df"
      ],
      "execution_count": 0,
      "outputs": []
    },
    {
      "cell_type": "code",
      "metadata": {
        "id": "61Jv8BRZu2T5",
        "colab_type": "code",
        "colab": {}
      },
      "source": [
        "def main():\n",
        "  df=read()\n",
        "  while True:\n",
        "    print(\"Ready to work?(Y/N)\")\n",
        "    work=input()\n",
        "    if(work=='N'):\n",
        "      break\n",
        "    \n",
        "    print(\"Enter the column you wish to use as  result\")\n",
        "    print(\"Your options are:\",df.columns)\n",
        "    divider=input()\n",
        "    #We need to preprocess data a bit more if data is biased towards a particular outcome\n",
        "    nonf=df[df[divider]==0]\n",
        "    fra=df[df[divider]==1]\n",
        "    #I have just taken 10. The value can change\n",
        "    if nonf.shape>=(10*fra.shape): \n",
        "      nonf=nonf.sample(fra.shape[0])\n",
        "      #print(nonf.shape)\n",
        "      df=fra.append(nonf,ignore_index=True)\n",
        "    if fra.shape>=(10*nonf.shape):\n",
        "      fra=fra.sample(nonf.shape[0])\n",
        "      #print(fra.shape)\n",
        "      df=nonf.append(fra,ignore_index=True)\n",
        "    #Dividing dataset to x and y\n",
        "    x,y=divide(df,divider)\n",
        "    #Scaling the dataset and division of training and test dataset\n",
        "    x_train,y_train,x_test,y_test=splitter(x,y)\n",
        "    print(\"Number of layers you want\") #Between 2 to 9\n",
        "    nl=int(input())\n",
        "    nodes=list()\n",
        "    for i in range(nl):\n",
        "      nodes.append(int(input(\"Enter number of neurons in layer: \")))\n",
        "    epochs=int(input(\"Enter the number of epochs you want\"))\n",
        "    bs=int(input(\"Enter the batch size you want\"))\n",
        "    spl=int(input(\"Enter the percentage of data you want to use for validation\"))\n",
        "    spl=spl*0.01\n",
        "    print(\"Choose the activation function for your layers\")\n",
        "    print(\"1. sigmoid\")\n",
        "    print(\"2. relu (Recommended. Most worked activation function in industry)\")\n",
        "    print(\"3. tanh\")\n",
        "    print(\"4. softmax\")\n",
        "    activation=input()\n",
        "    n=int(input(\"Enter percentage of dropout\"))\n",
        "    n=n*0.01\n",
        "    model=binary_class(x_train,nodes,activation,n)\n",
        "    print(\"Enter optimizer:\")\n",
        "    print(\"1. sgd\")\n",
        "    print(\"2. Adam (Hyperparameter tuning shows best)\")\n",
        "    print( \"3. Adamax\")\n",
        "    print(\"4. Nadam\")\n",
        "    opt=input()\n",
        "    #model_history=model.fit(x_train, y_train,validation_split=spl, batch_size = bs,epochs = epochs)\n",
        "    m1,m=optibin(model,opt,x_train,y_train,spl,bs,epochs)\n",
        "    print(m1.history.keys())\n",
        "    plotter(m1)\n",
        "    cm,score=crossmat(m,x_test,y_test)\n",
        "    print(cm)\n",
        "    print(score)\n",
        "  print(\"Thank You!\")\n",
        "  "
      ],
      "execution_count": 0,
      "outputs": []
    },
    {
      "cell_type": "code",
      "metadata": {
        "id": "bYojV5gBbvc-",
        "colab_type": "code",
        "colab": {}
      },
      "source": [
        "def plotter(model):\n",
        "  #Summarize history for accuracy\n",
        "  plt.plot(model.history['accuracy'])\n",
        "  plt.plot(model.history['val_accuracy'])\n",
        "  plt.title('model accuracy')\n",
        "  plt.ylabel('accuracy')\n",
        "  plt.xlabel('epoch')\n",
        "  plt.legend(['train', 'test'], loc='upper left')\n",
        "  plt.show()\n",
        "  #Summarize history for loss\n",
        "  plt.plot(model.history['loss'])\n",
        "  plt.plot(model.history['val_loss'])\n",
        "  plt.title('model loss')\n",
        "  plt.ylabel('loss')\n",
        "  plt.xlabel('epoch')\n",
        "  plt.legend(['train', 'test'], loc='upper left')\n",
        "  plt.show()\n"
      ],
      "execution_count": 0,
      "outputs": []
    },
    {
      "cell_type": "code",
      "metadata": {
        "id": "aKuNGdFQugVv",
        "colab_type": "code",
        "colab": {}
      },
      "source": [
        "def optibin(model,opt,x_train,y_train,spl,bs,epochs):\n",
        "  if(opt=='sgd'):\n",
        "    print(\"Enter Momentum:\")\n",
        "    mom=float(input())\n",
        "    lr=float(input(\"Enter value of Learning rate:\"))\n",
        "    sgd=keras.optimizers.SGD(learning_rate=lr, momentum=mom, nesterov=False)\n",
        "    model.compile(optimizer = sgd, loss = 'binary_crossentropy', metrics = ['accuracy'])\n",
        "  if(opt=='Adam'):\n",
        "    lr=float(input(\"Enter value of Learning rate:\"))\n",
        "    adam=keras.optimizers.Adam(learning_rate=lr)\n",
        "    model.compile(optimizer = adam, loss = 'binary_crossentropy', metrics = ['accuracy'])\n",
        "  if(opt=='Adamax'):\n",
        "    lr=float(input(\"Enter value of Learning rate:\"))\n",
        "    beta_1=float(input(\"Enter value of beta 1 (Generally close to 1)\"))\n",
        "    beta_2=float(input(\"Enter value of beta 2 (Generally close to 1)\"))\n",
        "    adamax=keras.optimizers.Adamax(learning_rate=lr, beta_1=beta_1, beta_2=beta_2)\n",
        "    model.compile(optimizer = adamax, loss = 'binary_crossentropy', metrics = ['accuracy'])\n",
        "  if(opt=='Nadam'):\n",
        "    lr=float(input(\"Enter value of Learning rate:\"))\n",
        "    beta_1=float(input(\"Enter value of beta 1 (Generally close to 1)\"))\n",
        "    beta_2=float(input(\"Enter value of beta 2 (Generally close to 1)\"))\n",
        "    nadam=keras.optimizers.Nadam(learning_rate=lr, beta_1=beta_1, beta_2=beta_2)\n",
        "    model.compile(optimizer = nadam, loss = 'binary_crossentropy', metrics = ['accuracy'])\n",
        "  model_history=model.fit(x_train, y_train,validation_split=spl, batch_size = bs,epochs = epochs)\n",
        "  return model_history, model\n",
        " # model.compile(optimizer = 'Adamax', loss = 'binary_crossentropy', metrics = ['accuracy'])\n"
      ],
      "execution_count": 0,
      "outputs": []
    },
    {
      "cell_type": "code",
      "metadata": {
        "id": "NUZw_BdvvYS1",
        "colab_type": "code",
        "colab": {}
      },
      "source": [
        "def binary_class(x_train,nodes,activation,n):\n",
        "  model=Sequential()\n",
        "  for i in range(len(nodes)):\n",
        "    if(i==0):\n",
        "      if(activation=='sigmoid'):\n",
        "        model.add(Dense(units = nodes[i], kernel_initializer = 'glorot_uniform',activation='sigmoid',input_dim = len(x_train[1])))\n",
        "      if(activation=='relu'):\n",
        "        model.add(Dense(units = nodes[i], kernel_initializer = 'he_uniform',activation='relu',input_dim = len(x_train[1])))\n",
        "      if(activation=='tanh'):\n",
        "        model.add(Dense(units = nodes[i], kernel_initializer = 'glorot_normal',activation='tanh',input_dim = len(x_train[1])))\n",
        "      if(activation=='softmax'):\n",
        "        model.add(Dense(units = nodes[i], kernel_initializer = 'glorot_normal',activation='softmax',input_dim = len(x_train[1])))\n",
        "    else:\n",
        "      if(activation=='sigmoid'):\n",
        "        model.add(Dense(units = nodes[i], kernel_initializer = 'glorot_uniform',activation='sigmoid'))\n",
        "      if(activation=='relu'):\n",
        "        model.add(Dense(units = nodes[i], kernel_initializer = 'he_uniform',activation='relu'))\n",
        "      if(activation=='tanh'):\n",
        "        model.add(Dense(units = nodes[i], kernel_initializer = 'glorot_normal',activation='tanh'))\n",
        "      if(activation=='softmax'):\n",
        "        model.add(Dense(units = nodes[i], kernel_initializer = 'glorot_uniform',activation='softmax'))\n",
        "    model.add(Dropout(n))\n",
        "  #Adding output layer\n",
        "  model.add(Dense(units=1, kernel_initializer = 'glorot_uniform',activation='sigmoid'))\n",
        "  #model.compile(optimizer = 'Adamax', loss = 'binary_crossentropy', metrics = ['accuracy'])\n",
        "  return model"
      ],
      "execution_count": 0,
      "outputs": []
    },
    {
      "cell_type": "code",
      "metadata": {
        "id": "tEEr0If4iyEG",
        "colab_type": "code",
        "colab": {}
      },
      "source": [
        "def crossmat(m,x_test,y_test):\n",
        "  y_pred = m.predict(x_test)\n",
        "  y_pred = (y_pred > 0.5)\n",
        "  from sklearn.metrics import confusion_matrix\n",
        "  cm = confusion_matrix(y_test, y_pred)\n",
        "  # Calculate the Accuracy\n",
        "  from sklearn.metrics import accuracy_score\n",
        "  score=accuracy_score(y_pred,y_test)\n",
        "  return cm,score"
      ],
      "execution_count": 0,
      "outputs": []
    },
    {
      "cell_type": "code",
      "metadata": {
        "id": "MvvRRQ6DOnCN",
        "colab_type": "code",
        "outputId": "dc656849-dfd2-4e22-e448-5045b30873aa",
        "colab": {
          "base_uri": "https://localhost:8080/",
          "height": 1000
        }
      },
      "source": [
        "main()"
      ],
      "execution_count": 40,
      "outputs": [
        {
          "output_type": "stream",
          "text": [
            "Ready to work?(Y/N)\n",
            "Y\n",
            "Enter the column you wish to use as  result\n",
            "Your options are: Index(['step', 'type', 'amount', 'oldbalanceOrg', 'newbalanceOrig',\n",
            "       'oldbalanceDest', 'newbalanceDest', 'isFraud', 'isFlaggedFraud'],\n",
            "      dtype='object')\n",
            "isFraud\n",
            "Number of layers you want\n",
            "2\n",
            "Enter number of neurons in layer: 7\n",
            "Enter number of neurons in layer: 6\n",
            "Enter the number of epochs you want15\n",
            "Enter the batch size you want10\n",
            "Enter the percentage of data you want to use for validation43\n",
            "Choose the activation function for your layers\n",
            "1. sigmoid\n",
            "2. relu (Recommended. Most worked activation function in industry)\n",
            "3. tanh\n",
            "4. softmax\n",
            "relu\n",
            "Enter percentage of dropout10\n",
            "Enter optimizer:\n",
            "1. sgd\n",
            "2. Adam (Hyperparameter tuning shows best)\n",
            "3. Adamax\n",
            "4. Nadam\n",
            "Adam\n",
            "Enter value of Learning rate:0.02\n",
            "Train on 7489 samples, validate on 5651 samples\n",
            "Epoch 1/15\n",
            "7489/7489 [==============================] - 1s 182us/step - loss: 0.3470 - accuracy: 0.8518 - val_loss: 0.2808 - val_accuracy: 0.8623\n",
            "Epoch 2/15\n",
            "7489/7489 [==============================] - 1s 172us/step - loss: 0.2845 - accuracy: 0.8780 - val_loss: 0.2200 - val_accuracy: 0.9133\n",
            "Epoch 3/15\n",
            "7489/7489 [==============================] - 1s 168us/step - loss: 0.2602 - accuracy: 0.8893 - val_loss: 0.1837 - val_accuracy: 0.9243\n",
            "Epoch 4/15\n",
            "7489/7489 [==============================] - 1s 172us/step - loss: 0.2570 - accuracy: 0.8949 - val_loss: 0.2114 - val_accuracy: 0.9115\n",
            "Epoch 5/15\n",
            "7489/7489 [==============================] - 1s 179us/step - loss: 0.2284 - accuracy: 0.9064 - val_loss: 0.1871 - val_accuracy: 0.9220\n",
            "Epoch 6/15\n",
            "7489/7489 [==============================] - 1s 167us/step - loss: 0.2222 - accuracy: 0.9063 - val_loss: 0.1510 - val_accuracy: 0.9446\n",
            "Epoch 7/15\n",
            "7489/7489 [==============================] - 1s 185us/step - loss: 0.1997 - accuracy: 0.9161 - val_loss: 0.1618 - val_accuracy: 0.9260\n",
            "Epoch 8/15\n",
            "7489/7489 [==============================] - 1s 167us/step - loss: 0.1976 - accuracy: 0.9189 - val_loss: 0.1783 - val_accuracy: 0.9131\n",
            "Epoch 9/15\n",
            "7489/7489 [==============================] - 1s 178us/step - loss: 0.1977 - accuracy: 0.9157 - val_loss: 0.1663 - val_accuracy: 0.9349\n",
            "Epoch 10/15\n",
            "7489/7489 [==============================] - 1s 165us/step - loss: 0.1903 - accuracy: 0.9230 - val_loss: 0.1666 - val_accuracy: 0.9375\n",
            "Epoch 11/15\n",
            "7489/7489 [==============================] - 1s 183us/step - loss: 0.1897 - accuracy: 0.9214 - val_loss: 0.1502 - val_accuracy: 0.9329\n",
            "Epoch 12/15\n",
            "7489/7489 [==============================] - 1s 172us/step - loss: 0.2029 - accuracy: 0.9184 - val_loss: 0.1385 - val_accuracy: 0.9444\n",
            "Epoch 13/15\n",
            "7489/7489 [==============================] - 1s 167us/step - loss: 0.1726 - accuracy: 0.9287 - val_loss: 0.1753 - val_accuracy: 0.9310\n",
            "Epoch 14/15\n",
            "7489/7489 [==============================] - 1s 172us/step - loss: 0.1985 - accuracy: 0.9187 - val_loss: 0.1448 - val_accuracy: 0.9386\n",
            "Epoch 15/15\n",
            "7489/7489 [==============================] - 1s 174us/step - loss: 0.1800 - accuracy: 0.9223 - val_loss: 0.1198 - val_accuracy: 0.9485\n",
            "dict_keys(['val_loss', 'val_accuracy', 'loss', 'accuracy'])\n"
          ],
          "name": "stdout"
        },
        {
          "output_type": "display_data",
          "data": {
            "image/png": "[encoded data removed]",
            "text/plain": [
              "<Figure size 432x288 with 1 Axes>"
            ]
          },
          "metadata": {
            "tags": [],
            "needs_background": "light"
          }
        },
        {
          "output_type": "display_data",
          "data": {
            "image/png": "[encoded data removed]",
            "text/plain": [
              "<Figure size 432x288 with 1 Axes>"
            ]
          },
          "metadata": {
            "tags": [],
            "needs_background": "light"
          }
        },
        {
          "output_type": "stream",
          "text": [
            "[[1594   62]\n",
            " [  93 1537]]\n",
            "0.9528301886792453\n",
            "Ready to work?(Y/N)\n",
            "N\n",
            "Thank You!\n"
          ],
          "name": "stdout"
        }
      ]
    }
  ]
}